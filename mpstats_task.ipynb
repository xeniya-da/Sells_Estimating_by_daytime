{
 "cells": [
  {
   "cell_type": "markdown",
   "metadata": {},
   "source": [
    "# Анализ изменения количества покупок в течение дня на WB\n",
    "### для MPSTATS"
   ]
  },
  {
   "cell_type": "markdown",
   "metadata": {},
   "source": [
    "<b>Контекст:</b> продуктовая команда хочет добавить фичу в инструмент Управление ценой (Репрайсер) – настройку цены на товар в зависимости от времени и дня недели. Для этого нужно изучить нюансы распределения продаж в течение дня.\n",
    "<br><b>Задача:</b> провести исследование суточной сезонности продаж на Wildberries\n",
    "<br><b>Подзадачи:</b>\n",
    "1.\tКак в среднем распределяются продажи в течение дня?\n",
    "2.\tМеняется ли распределение продаж в течение дня в зависимости от дня недели?\n",
    "3.\tМеняется ли распределение продаж в течение дня в выходные и праздники?\n",
    "4.\tЗависит ли распределение продаж в течение дня от времени года/месяца?\n",
    "5.\tВлияет ли категория товара (предмет или группа предметов) на распределение продаж в течение дня?\n",
    "\n",
    "##### Данные\n",
    "<br><b>«test_data.feather»</b> – данные о ненулевых продажах товаров\n",
    "<br>id – идентификатор товара на Wildberries\n",
    "<br>data – дата и время обхода товара парсером MPSTATS\n",
    "<br>sells – изменение остатков товара по сравнению с прошлым обходом (продажи)\n",
    "<br>date – только дата от второго столбца\n",
    "<br><b>«sku_subject_info.csv»</b> – данные о принадлежности товаров к предмету (категории)\n",
    "<br>id – идентификатор товара на Wildberries\n",
    "<br>subject_id – идентификатор предмета на Wildberries\n",
    "<br><b>«subject_names.csv»</b> – данные о предметах\n",
    "<br>subject_id – идентификатор предмета на Wildberries\n",
    "<br>name – название предмета\n",
    "<br>groupname – категория предмета\n"
   ]
  },
  {
   "cell_type": "markdown",
   "metadata": {},
   "source": [
    "### 1.Импорт библиотек и источников"
   ]
  },
  {
   "cell_type": "code",
   "execution_count": 1,
   "metadata": {},
   "outputs": [],
   "source": [
    "import pandas as pd\n",
    "import numpy as np\n",
    "import matplotlib.pyplot as plt\n",
    "import seaborn as sns\n",
    "%matplotlib inline\n",
    "from datetime import datetime\n",
    "import scipy.stats as st\n",
    "from urllib.parse import urlencode"
   ]
  },
  {
   "cell_type": "code",
   "execution_count": 2,
   "metadata": {},
   "outputs": [],
   "source": [
    "# скрываем предупреждения\n",
    "import warnings\n",
    "warnings.filterwarnings(\"ignore\")"
   ]
  },
  {
   "cell_type": "code",
   "execution_count": 3,
   "metadata": {
    "scrolled": true
   },
   "outputs": [
    {
     "name": "stdout",
     "output_type": "stream",
     "text": [
      "Файл sku_subject_info.csv был успешно загружен.\n"
     ]
    }
   ],
   "source": [
    "import requests\n",
    "\n",
    "public_folder_url = 'https://disk.yandex.ru/d/i9ydGpo04f0sLw'\n",
    "filename_to_find = 'sku_subject_info.csv'\n",
    "\n",
    "def get_public_folder_meta(public_url, path=''):\n",
    "    api_url = 'https://cloud-api.yandex.net/v1/disk/public/resources'\n",
    "    params = {'public_key': public_url, 'path': path}\n",
    "    response = requests.get(api_url, params=params)\n",
    "    response.raise_for_status()\n",
    "    return response.json()\n",
    "\n",
    "def find_file_recursively(public_url, folder_meta, filename):\n",
    "    for item in folder_meta['_embedded']['items']:\n",
    "        if item['type'] == 'dir':\n",
    "            # Рекурсивно ищем в подкаталогах\n",
    "            subfolder_meta = get_public_folder_meta(public_url, item['path'])\n",
    "            file_url = find_file_recursively(public_url, subfolder_meta, filename)\n",
    "            if file_url:\n",
    "                return file_url\n",
    "        elif item['type'] == 'file' and item['name'] == filename:\n",
    "            return item['file']\n",
    "    return None\n",
    "\n",
    "\n",
    "# Получаем метаданные корневой папки\n",
    "root_folder_meta = get_public_folder_meta(public_folder_url)\n",
    "\n",
    "# Ищем файл рекурсивно\n",
    "file_url = find_file_recursively(public_folder_url, root_folder_meta, filename_to_find)\n",
    "if file_url:\n",
    "    # Скачиваем файл\n",
    "    categories = pd.read_csv(file_url)\n",
    "    print(f'Файл {filename_to_find} был успешно загружен.')\n",
    "else:\n",
    "    print(f'Файл {filename_to_find} не найден.')"
   ]
  },
  {
   "cell_type": "code",
   "execution_count": 4,
   "metadata": {},
   "outputs": [
    {
     "name": "stdout",
     "output_type": "stream",
     "text": [
      "Файл subject_names.csv был успешно загружен.\n"
     ]
    }
   ],
   "source": [
    "filename_to_find = 'subject_names.csv'\n",
    "file_url = find_file_recursively(public_folder_url, root_folder_meta, filename_to_find)\n",
    "if file_url:\n",
    "    # Скачиваем файл\n",
    "    subjects = pd.read_csv(file_url)\n",
    "    print(f'Файл {filename_to_find} был успешно загружен.')\n",
    "else:\n",
    "    print(f'Файл {filename_to_find} не найден.')"
   ]
  },
  {
   "cell_type": "code",
   "execution_count": 5,
   "metadata": {},
   "outputs": [
    {
     "name": "stdout",
     "output_type": "stream",
     "text": [
      "Файл test_data.feather был успешно загружен.\n"
     ]
    }
   ],
   "source": [
    "filename_to_find = 'test_data.feather'\n",
    "file_url = find_file_recursively(public_folder_url, root_folder_meta, filename_to_find)\n",
    "if file_url:\n",
    "    # Скачиваем файл\n",
    "    sales = pd.read_feather(file_url)\n",
    "    print(f'Файл {filename_to_find} был успешно загружен.')\n",
    "else:\n",
    "    print(f'Файл {filename_to_find} не найден.')"
   ]
  },
  {
   "cell_type": "markdown",
   "metadata": {},
   "source": [
    "### 2.Блок исследования и преобразования источников"
   ]
  },
  {
   "cell_type": "code",
   "execution_count": 6,
   "metadata": {
    "scrolled": true
   },
   "outputs": [
    {
     "name": "stdout",
     "output_type": "stream",
     "text": [
      "categories_table:\n",
      "id            0\n",
      "subject_id    0\n",
      "dtype: int64\n",
      "subjects_table:\n",
      "subject_id     0\n",
      "name           0\n",
      "groupname     24\n",
      "dtype: int64\n",
      "sales_table:\n",
      "id       0\n",
      "data     0\n",
      "sells    0\n",
      "date     0\n",
      "dtype: int64\n"
     ]
    }
   ],
   "source": [
    "print(f'categories_table:')\n",
    "print(categories.isna().sum())\n",
    "print(f'subjects_table:')\n",
    "print(subjects.isna().sum())\n",
    "print(f'sales_table:')\n",
    "print(sales.isna().sum())"
   ]
  },
  {
   "cell_type": "code",
   "execution_count": 7,
   "metadata": {},
   "outputs": [
    {
     "data": {
      "text/plain": [
       "(13047395, 4)"
      ]
     },
     "execution_count": 7,
     "metadata": {},
     "output_type": "execute_result"
    }
   ],
   "source": [
    "# размер датафрейма до соединения, сравню размер, не было ли неуникальных значений в справочниках\n",
    "sales.shape"
   ]
  },
  {
   "cell_type": "code",
   "execution_count": 8,
   "metadata": {},
   "outputs": [
    {
     "data": {
      "text/html": [
       "<div>\n",
       "<style scoped>\n",
       "    .dataframe tbody tr th:only-of-type {\n",
       "        vertical-align: middle;\n",
       "    }\n",
       "\n",
       "    .dataframe tbody tr th {\n",
       "        vertical-align: top;\n",
       "    }\n",
       "\n",
       "    .dataframe thead th {\n",
       "        text-align: right;\n",
       "    }\n",
       "</style>\n",
       "<table border=\"1\" class=\"dataframe\">\n",
       "  <thead>\n",
       "    <tr style=\"text-align: right;\">\n",
       "      <th></th>\n",
       "      <th>id</th>\n",
       "      <th>data</th>\n",
       "      <th>sells</th>\n",
       "      <th>date</th>\n",
       "      <th>subject_id</th>\n",
       "      <th>name</th>\n",
       "      <th>groupname</th>\n",
       "    </tr>\n",
       "  </thead>\n",
       "  <tbody>\n",
       "    <tr>\n",
       "      <th>0</th>\n",
       "      <td>461732</td>\n",
       "      <td>2022-10-04 04:10:26</td>\n",
       "      <td>3</td>\n",
       "      <td>2022-10-04</td>\n",
       "      <td>98.0</td>\n",
       "      <td>Сабо</td>\n",
       "      <td>Обувь</td>\n",
       "    </tr>\n",
       "    <tr>\n",
       "      <th>1</th>\n",
       "      <td>461732</td>\n",
       "      <td>2022-10-04 05:10:26</td>\n",
       "      <td>3</td>\n",
       "      <td>2022-10-04</td>\n",
       "      <td>98.0</td>\n",
       "      <td>Сабо</td>\n",
       "      <td>Обувь</td>\n",
       "    </tr>\n",
       "    <tr>\n",
       "      <th>2</th>\n",
       "      <td>461732</td>\n",
       "      <td>2022-10-04 05:12:45</td>\n",
       "      <td>1</td>\n",
       "      <td>2022-10-04</td>\n",
       "      <td>98.0</td>\n",
       "      <td>Сабо</td>\n",
       "      <td>Обувь</td>\n",
       "    </tr>\n",
       "    <tr>\n",
       "      <th>3</th>\n",
       "      <td>461732</td>\n",
       "      <td>2022-10-04 06:10:14</td>\n",
       "      <td>1</td>\n",
       "      <td>2022-10-04</td>\n",
       "      <td>98.0</td>\n",
       "      <td>Сабо</td>\n",
       "      <td>Обувь</td>\n",
       "    </tr>\n",
       "    <tr>\n",
       "      <th>4</th>\n",
       "      <td>461732</td>\n",
       "      <td>2022-10-04 06:11:50</td>\n",
       "      <td>1</td>\n",
       "      <td>2022-10-04</td>\n",
       "      <td>98.0</td>\n",
       "      <td>Сабо</td>\n",
       "      <td>Обувь</td>\n",
       "    </tr>\n",
       "  </tbody>\n",
       "</table>\n",
       "</div>"
      ],
      "text/plain": [
       "       id                data  sells        date  subject_id  name groupname\n",
       "0  461732 2022-10-04 04:10:26      3  2022-10-04        98.0  Сабо     Обувь\n",
       "1  461732 2022-10-04 05:10:26      3  2022-10-04        98.0  Сабо     Обувь\n",
       "2  461732 2022-10-04 05:12:45      1  2022-10-04        98.0  Сабо     Обувь\n",
       "3  461732 2022-10-04 06:10:14      1  2022-10-04        98.0  Сабо     Обувь\n",
       "4  461732 2022-10-04 06:11:50      1  2022-10-04        98.0  Сабо     Обувь"
      ]
     },
     "execution_count": 8,
     "metadata": {},
     "output_type": "execute_result"
    }
   ],
   "source": [
    "sales_all = sales.merge(categories, how='left', on='id').merge(subjects, how='left', on='subject_id')\n",
    "sales_all.head()"
   ]
  },
  {
   "cell_type": "code",
   "execution_count": 9,
   "metadata": {
    "scrolled": true
   },
   "outputs": [
    {
     "data": {
      "text/plain": [
       "(13047395, 7)"
      ]
     },
     "execution_count": 9,
     "metadata": {},
     "output_type": "execute_result"
    }
   ],
   "source": [
    "sales_all.shape"
   ]
  },
  {
   "cell_type": "markdown",
   "metadata": {},
   "source": [
    "таблицы categories и subjects с уникальными значениями, размер sales_all не изменился"
   ]
  },
  {
   "cell_type": "code",
   "execution_count": 10,
   "metadata": {},
   "outputs": [
    {
     "data": {
      "text/plain": [
       "id                     int64\n",
       "data          datetime64[ns]\n",
       "sells                  int64\n",
       "date                  object\n",
       "subject_id           float64\n",
       "name                  object\n",
       "groupname             object\n",
       "dtype: object"
      ]
     },
     "execution_count": 10,
     "metadata": {},
     "output_type": "execute_result"
    }
   ],
   "source": [
    "sales_all.dtypes"
   ]
  },
  {
   "cell_type": "code",
   "execution_count": 11,
   "metadata": {},
   "outputs": [
    {
     "data": {
      "text/plain": [
       "count                13047395\n",
       "unique                3801842\n",
       "top       2022-10-30 15:12:13\n",
       "freq                      106\n",
       "first     2022-06-29 00:16:26\n",
       "last      2023-06-29 23:33:28\n",
       "Name: data, dtype: object"
      ]
     },
     "execution_count": 11,
     "metadata": {},
     "output_type": "execute_result"
    }
   ],
   "source": [
    "sales_all.data.describe()"
   ]
  },
  {
   "cell_type": "code",
   "execution_count": 12,
   "metadata": {
    "scrolled": true
   },
   "outputs": [
    {
     "data": {
      "text/plain": [
       "count    1.304740e+07\n",
       "mean     1.117304e+01\n",
       "std      1.469211e+02\n",
       "min      1.000000e+00\n",
       "25%      2.000000e+00\n",
       "50%      5.000000e+00\n",
       "75%      1.100000e+01\n",
       "max      1.310920e+05\n",
       "Name: sells, dtype: float64"
      ]
     },
     "execution_count": 12,
     "metadata": {},
     "output_type": "execute_result"
    }
   ],
   "source": [
    "sales_all.sells.describe()"
   ]
  },
  {
   "cell_type": "code",
   "execution_count": 13,
   "metadata": {},
   "outputs": [
    {
     "data": {
      "text/plain": [
       "array(['Обувь', 'Дом', 'Красота', 'Игрушки', 'Белье', 'Бытовая техника',\n",
       "       'Товары для малышей', 'Хозяйственные товары',\n",
       "       'Ювелирные украшения', 'Одежда', 'Рукоделие', 'Техника для кухни',\n",
       "       'Посуда и инвентарь', 'Спортивная одежда', 'Здоровье', 'Продукты',\n",
       "       'Канцелярские товары', 'Периферия и аксессуары', 'Детское питание',\n",
       "       'Головные уборы', 'Аксессуары', 'Книжная продукция и диски',\n",
       "       'Спортивная обувь', 'Электроника', 'Товары для животных',\n",
       "       'Спортивное питание и косметика', 'Автомобильные товары',\n",
       "       'Аксессуары для волос', 'Строительные инструменты',\n",
       "       'Аксессуары для обуви', 'Шторы и аксессуары', 'Хранение вещей',\n",
       "       'Оргтехника', 'Смартфоны и аксессуары', 'Спортивный товар',\n",
       "       'Для праздника', 'Мебель', 'Телевизоры и аудиотехника',\n",
       "       'Все для садоводства', 'Фото и Видеотехника', 'Белье для малышей',\n",
       "       'Автоэлектроника', 'Товары для взрослых', 'Спецодежда и СИЗы', nan,\n",
       "       'Бижутерия', 'Спортивные аксессуары', 'Одежда для малышей',\n",
       "       'Аксессуары для малышей', 'Сантехника', 'Строительные материалы',\n",
       "       'Торговое оборудование', 'Садовая техника', 'Садовые инструменты',\n",
       "       'Ноутбуки и компьютеры', 'Товары для отдыха и кемпинга',\n",
       "       'Игровые консоли и игры'], dtype=object)"
      ]
     },
     "execution_count": 13,
     "metadata": {},
     "output_type": "execute_result"
    }
   ],
   "source": [
    "sales_all.groupname.unique()"
   ]
  },
  {
   "cell_type": "markdown",
   "metadata": {},
   "source": [
    "Период (data) с  2022-06-29 00:16:26 по 2023-06-29 23:33:28\n",
    "<br>Кол-во товаров изменялось только в уменьшение значения (все значения в sells со знаком +) от 1 до 131 092\n",
    "\n",
    "<br>Укрупним data до часов, добавим уровень день недели, месяц, сезон и время суток."
   ]
  },
  {
   "cell_type": "code",
   "execution_count": 14,
   "metadata": {},
   "outputs": [],
   "source": [
    "sales_all['data_ymdh'] = sales_all.data.apply(lambda t: datetime.strptime((t.strftime('%m-%d-%Y %H')), '%m-%d-%Y %H'))\n",
    "# sales_all.data_h = sales_all.data.apply(lambda t: datetime.strptime((t.strftime('%H')), '%H'))\n",
    "sales_all['data_h'] = sales_all.data.dt.hour\n",
    "sales_all['data_d'] = sales_all.data.apply(lambda t: datetime.strptime((t.strftime('%m-%d-%Y')), '%m-%d-%Y'))\n",
    "# sales_all.data_wd = sales_all.data.apply(lambda t: datetime.strptime((t.strftime('%A')), '%A'))\n",
    "sales_all['data_wd'] = sales_all.data.dt.day_name()\n",
    "sales_all['data_m'] = sales_all.data.dt.month\n",
    "sales_all['season'] = sales_all \\\n",
    "    .data_m \\\n",
    "    .apply(lambda s: 'otumn' if (s > 8 and s < 12) else ('summer' if (s > 5 and s < 9) else ('spring' if (s > 2 and s < 6) else 'winter')))\n",
    "sales_all['day_time'] = sales_all \\\n",
    "    .data_h \\\n",
    "    .apply(lambda s: '1_morning' if (s > 8 and s < 12) else ('2_dinner' if (s > 13 and s < 15) else ('3_day' if (s > 16 and s < 18) else ('4_evening' if (s > 19 and s < 22) else '5_night'))))\n",
    "sales_all['data_wdn'] = sales_all.data.dt.weekday"
   ]
  },
  {
   "cell_type": "code",
   "execution_count": 15,
   "metadata": {},
   "outputs": [],
   "source": [
    "# sales_all['season'] = sales_all \\\n",
    "#     .data_m \\\n",
    "#     .apply(lambda s: 'otumn' if (s > 8 and s < 12) else ('summer' if (s > 5 and s < 9) else ('spring' if (s > 2 and s < 6) else 'winter')))"
   ]
  },
  {
   "cell_type": "code",
   "execution_count": 16,
   "metadata": {},
   "outputs": [],
   "source": [
    "# sales_all['day_time'] = sales_all \\\n",
    "#     .data_h \\\n",
    "#     .apply(lambda s: '1_morning' if (s > 8 and s < 12) else ('2_dinner' if (s > 13 and s < 15) else ('3_day' if (s > 16 and s < 18) else ('4_evening' if (s > 19 and s < 22) else '5_night'))))"
   ]
  },
  {
   "cell_type": "code",
   "execution_count": 17,
   "metadata": {},
   "outputs": [],
   "source": [
    "# sales_all['data_wdn'] = sales_all.data.dt.weekday"
   ]
  },
  {
   "cell_type": "code",
   "execution_count": 18,
   "metadata": {},
   "outputs": [],
   "source": [
    "# def season_def(s):\n",
    "#     if s > 8 and s < 12:\n",
    "#         return 'otumn'\n",
    "#     elif s > 5 and s < 9:\n",
    "#         return 'summer'\n",
    "#     elif s > 2 and s < 6:\n",
    "#         return 'spring'\n",
    "#     else:\n",
    "#         return 'winter'"
   ]
  },
  {
   "cell_type": "code",
   "execution_count": 19,
   "metadata": {
    "scrolled": true
   },
   "outputs": [
    {
     "data": {
      "text/html": [
       "<div>\n",
       "<style scoped>\n",
       "    .dataframe tbody tr th:only-of-type {\n",
       "        vertical-align: middle;\n",
       "    }\n",
       "\n",
       "    .dataframe tbody tr th {\n",
       "        vertical-align: top;\n",
       "    }\n",
       "\n",
       "    .dataframe thead th {\n",
       "        text-align: right;\n",
       "    }\n",
       "</style>\n",
       "<table border=\"1\" class=\"dataframe\">\n",
       "  <thead>\n",
       "    <tr style=\"text-align: right;\">\n",
       "      <th></th>\n",
       "      <th>id</th>\n",
       "      <th>data</th>\n",
       "      <th>sells</th>\n",
       "      <th>date</th>\n",
       "      <th>subject_id</th>\n",
       "      <th>name</th>\n",
       "      <th>groupname</th>\n",
       "      <th>data_ymdh</th>\n",
       "      <th>data_h</th>\n",
       "      <th>data_d</th>\n",
       "      <th>data_wd</th>\n",
       "      <th>data_m</th>\n",
       "      <th>season</th>\n",
       "      <th>day_time</th>\n",
       "      <th>data_wdn</th>\n",
       "    </tr>\n",
       "  </thead>\n",
       "  <tbody>\n",
       "    <tr>\n",
       "      <th>0</th>\n",
       "      <td>461732</td>\n",
       "      <td>2022-10-04 04:10:26</td>\n",
       "      <td>3</td>\n",
       "      <td>2022-10-04</td>\n",
       "      <td>98.0</td>\n",
       "      <td>Сабо</td>\n",
       "      <td>Обувь</td>\n",
       "      <td>2022-10-04 04:00:00</td>\n",
       "      <td>4</td>\n",
       "      <td>2022-10-04</td>\n",
       "      <td>Tuesday</td>\n",
       "      <td>10</td>\n",
       "      <td>otumn</td>\n",
       "      <td>5_night</td>\n",
       "      <td>1</td>\n",
       "    </tr>\n",
       "    <tr>\n",
       "      <th>1</th>\n",
       "      <td>461732</td>\n",
       "      <td>2022-10-04 05:10:26</td>\n",
       "      <td>3</td>\n",
       "      <td>2022-10-04</td>\n",
       "      <td>98.0</td>\n",
       "      <td>Сабо</td>\n",
       "      <td>Обувь</td>\n",
       "      <td>2022-10-04 05:00:00</td>\n",
       "      <td>5</td>\n",
       "      <td>2022-10-04</td>\n",
       "      <td>Tuesday</td>\n",
       "      <td>10</td>\n",
       "      <td>otumn</td>\n",
       "      <td>5_night</td>\n",
       "      <td>1</td>\n",
       "    </tr>\n",
       "    <tr>\n",
       "      <th>2</th>\n",
       "      <td>461732</td>\n",
       "      <td>2022-10-04 05:12:45</td>\n",
       "      <td>1</td>\n",
       "      <td>2022-10-04</td>\n",
       "      <td>98.0</td>\n",
       "      <td>Сабо</td>\n",
       "      <td>Обувь</td>\n",
       "      <td>2022-10-04 05:00:00</td>\n",
       "      <td>5</td>\n",
       "      <td>2022-10-04</td>\n",
       "      <td>Tuesday</td>\n",
       "      <td>10</td>\n",
       "      <td>otumn</td>\n",
       "      <td>5_night</td>\n",
       "      <td>1</td>\n",
       "    </tr>\n",
       "    <tr>\n",
       "      <th>3</th>\n",
       "      <td>461732</td>\n",
       "      <td>2022-10-04 06:10:14</td>\n",
       "      <td>1</td>\n",
       "      <td>2022-10-04</td>\n",
       "      <td>98.0</td>\n",
       "      <td>Сабо</td>\n",
       "      <td>Обувь</td>\n",
       "      <td>2022-10-04 06:00:00</td>\n",
       "      <td>6</td>\n",
       "      <td>2022-10-04</td>\n",
       "      <td>Tuesday</td>\n",
       "      <td>10</td>\n",
       "      <td>otumn</td>\n",
       "      <td>5_night</td>\n",
       "      <td>1</td>\n",
       "    </tr>\n",
       "    <tr>\n",
       "      <th>4</th>\n",
       "      <td>461732</td>\n",
       "      <td>2022-10-04 06:11:50</td>\n",
       "      <td>1</td>\n",
       "      <td>2022-10-04</td>\n",
       "      <td>98.0</td>\n",
       "      <td>Сабо</td>\n",
       "      <td>Обувь</td>\n",
       "      <td>2022-10-04 06:00:00</td>\n",
       "      <td>6</td>\n",
       "      <td>2022-10-04</td>\n",
       "      <td>Tuesday</td>\n",
       "      <td>10</td>\n",
       "      <td>otumn</td>\n",
       "      <td>5_night</td>\n",
       "      <td>1</td>\n",
       "    </tr>\n",
       "  </tbody>\n",
       "</table>\n",
       "</div>"
      ],
      "text/plain": [
       "       id                data  sells        date  subject_id  name groupname  \\\n",
       "0  461732 2022-10-04 04:10:26      3  2022-10-04        98.0  Сабо     Обувь   \n",
       "1  461732 2022-10-04 05:10:26      3  2022-10-04        98.0  Сабо     Обувь   \n",
       "2  461732 2022-10-04 05:12:45      1  2022-10-04        98.0  Сабо     Обувь   \n",
       "3  461732 2022-10-04 06:10:14      1  2022-10-04        98.0  Сабо     Обувь   \n",
       "4  461732 2022-10-04 06:11:50      1  2022-10-04        98.0  Сабо     Обувь   \n",
       "\n",
       "            data_ymdh  data_h     data_d  data_wd  data_m season day_time  \\\n",
       "0 2022-10-04 04:00:00       4 2022-10-04  Tuesday      10  otumn  5_night   \n",
       "1 2022-10-04 05:00:00       5 2022-10-04  Tuesday      10  otumn  5_night   \n",
       "2 2022-10-04 05:00:00       5 2022-10-04  Tuesday      10  otumn  5_night   \n",
       "3 2022-10-04 06:00:00       6 2022-10-04  Tuesday      10  otumn  5_night   \n",
       "4 2022-10-04 06:00:00       6 2022-10-04  Tuesday      10  otumn  5_night   \n",
       "\n",
       "   data_wdn  \n",
       "0         1  \n",
       "1         1  \n",
       "2         1  \n",
       "3         1  \n",
       "4         1  "
      ]
     },
     "execution_count": 19,
     "metadata": {},
     "output_type": "execute_result"
    }
   ],
   "source": [
    "sales_all.head()"
   ]
  },
  {
   "cell_type": "code",
   "execution_count": 20,
   "metadata": {},
   "outputs": [
    {
     "data": {
      "text/plain": [
       "id                     int64\n",
       "data          datetime64[ns]\n",
       "sells                  int64\n",
       "date                  object\n",
       "subject_id           float64\n",
       "name                  object\n",
       "groupname             object\n",
       "data_ymdh     datetime64[ns]\n",
       "data_h                 int64\n",
       "data_d        datetime64[ns]\n",
       "data_wd               object\n",
       "data_m                 int64\n",
       "season                object\n",
       "day_time              object\n",
       "data_wdn               int64\n",
       "dtype: object"
      ]
     },
     "execution_count": 20,
     "metadata": {},
     "output_type": "execute_result"
    }
   ],
   "source": [
    "sales_all.dtypes"
   ]
  },
  {
   "cell_type": "markdown",
   "metadata": {},
   "source": [
    "### 3.Решение подзадач"
   ]
  },
  {
   "cell_type": "markdown",
   "metadata": {},
   "source": [
    "### <i>1)Как в среднем распределяются продажи в течение дня?</i>"
   ]
  },
  {
   "cell_type": "code",
   "execution_count": 21,
   "metadata": {},
   "outputs": [
    {
     "data": {
      "text/html": [
       "<div>\n",
       "<style scoped>\n",
       "    .dataframe tbody tr th:only-of-type {\n",
       "        vertical-align: middle;\n",
       "    }\n",
       "\n",
       "    .dataframe tbody tr th {\n",
       "        vertical-align: top;\n",
       "    }\n",
       "\n",
       "    .dataframe thead th {\n",
       "        text-align: right;\n",
       "    }\n",
       "</style>\n",
       "<table border=\"1\" class=\"dataframe\">\n",
       "  <thead>\n",
       "    <tr style=\"text-align: right;\">\n",
       "      <th></th>\n",
       "      <th>data_h</th>\n",
       "      <th>sells</th>\n",
       "    </tr>\n",
       "  </thead>\n",
       "  <tbody>\n",
       "    <tr>\n",
       "      <th>0</th>\n",
       "      <td>0</td>\n",
       "      <td>4.279422</td>\n",
       "    </tr>\n",
       "    <tr>\n",
       "      <th>1</th>\n",
       "      <td>1</td>\n",
       "      <td>4.021161</td>\n",
       "    </tr>\n",
       "    <tr>\n",
       "      <th>2</th>\n",
       "      <td>2</td>\n",
       "      <td>4.637351</td>\n",
       "    </tr>\n",
       "    <tr>\n",
       "      <th>3</th>\n",
       "      <td>3</td>\n",
       "      <td>5.754495</td>\n",
       "    </tr>\n",
       "    <tr>\n",
       "      <th>4</th>\n",
       "      <td>4</td>\n",
       "      <td>7.254959</td>\n",
       "    </tr>\n",
       "  </tbody>\n",
       "</table>\n",
       "</div>"
      ],
      "text/plain": [
       "   data_h     sells\n",
       "0       0  4.279422\n",
       "1       1  4.021161\n",
       "2       2  4.637351\n",
       "3       3  5.754495\n",
       "4       4  7.254959"
      ]
     },
     "execution_count": 21,
     "metadata": {},
     "output_type": "execute_result"
    }
   ],
   "source": [
    "# аггрегируем данные по среднему количеству покупок в час\n",
    "avg_sales_day = sales_all.groupby('data_h', as_index=False).agg({'sells': 'mean'})\n",
    "avg_sales_day.head()"
   ]
  },
  {
   "cell_type": "code",
   "execution_count": 22,
   "metadata": {},
   "outputs": [
    {
     "data": {
      "text/plain": [
       "<matplotlib.axes._subplots.AxesSubplot at 0x7f6772d8fcc0>"
      ]
     },
     "execution_count": 22,
     "metadata": {},
     "output_type": "execute_result"
    },
    {
     "data": {
      "image/png": "[encoded data removed]",
      "text/plain": [
       "<Figure size 1800x720 with 1 Axes>"
      ]
     },
     "metadata": {},
     "output_type": "display_data"
    }
   ],
   "source": [
    "# график\n",
    "sns.set(\n",
    "font_scale=2,\n",
    "style=\"whitegrid\",\n",
    "rc={'figure.figsize':(25,10)}\n",
    "        )\n",
    "\n",
    "sns.barplot(x='data_h', y='sells', data=avg_sales_day, color='blue', alpha=0.3)"
   ]
  },
  {
   "cell_type": "markdown",
   "metadata": {},
   "source": [
    "Дневная активность по среднему количству покупок выглядит довольно равномерной со спадом в обед.\n",
    "<br>Ночью наблюдаем спад активности.\n",
    "<br>В целом график выглядит довольно логично в зависимости от биоритмов, графика работы-отдыха, бизнес-активности. И если говорить неформально соответствует в том числе и моей активности.\n",
    "<br>Нахожу интересным рост количества покупок в 16 часов (получается с 15 до 16), для начала посмотрела бы здесь сегмент покупателей по демографичским признакам.\n",
    "<br>Можно использовать эти данные для группировки суточных периодов (выше добавила отметку утро, обед, день, вечер, ночь)"
   ]
  },
  {
   "cell_type": "markdown",
   "metadata": {},
   "source": [
    "### <i>2)Меняется ли распределение продаж в течение дня в зависимости от дня недели?</i>"
   ]
  },
  {
   "cell_type": "code",
   "execution_count": 23,
   "metadata": {},
   "outputs": [
    {
     "data": {
      "text/html": [
       "<div>\n",
       "<style scoped>\n",
       "    .dataframe tbody tr th:only-of-type {\n",
       "        vertical-align: middle;\n",
       "    }\n",
       "\n",
       "    .dataframe tbody tr th {\n",
       "        vertical-align: top;\n",
       "    }\n",
       "\n",
       "    .dataframe thead th {\n",
       "        text-align: right;\n",
       "    }\n",
       "</style>\n",
       "<table border=\"1\" class=\"dataframe\">\n",
       "  <thead>\n",
       "    <tr style=\"text-align: right;\">\n",
       "      <th></th>\n",
       "      <th>data_wd</th>\n",
       "      <th>data_wdn</th>\n",
       "      <th>day_time</th>\n",
       "      <th>sells</th>\n",
       "    </tr>\n",
       "  </thead>\n",
       "  <tbody>\n",
       "    <tr>\n",
       "      <th>5</th>\n",
       "      <td>Monday</td>\n",
       "      <td>0</td>\n",
       "      <td>1_morning</td>\n",
       "      <td>14.269427</td>\n",
       "    </tr>\n",
       "    <tr>\n",
       "      <th>6</th>\n",
       "      <td>Monday</td>\n",
       "      <td>0</td>\n",
       "      <td>2_dinner</td>\n",
       "      <td>12.134874</td>\n",
       "    </tr>\n",
       "    <tr>\n",
       "      <th>7</th>\n",
       "      <td>Monday</td>\n",
       "      <td>0</td>\n",
       "      <td>3_day</td>\n",
       "      <td>11.048464</td>\n",
       "    </tr>\n",
       "    <tr>\n",
       "      <th>8</th>\n",
       "      <td>Monday</td>\n",
       "      <td>0</td>\n",
       "      <td>4_evening</td>\n",
       "      <td>13.840538</td>\n",
       "    </tr>\n",
       "    <tr>\n",
       "      <th>9</th>\n",
       "      <td>Monday</td>\n",
       "      <td>0</td>\n",
       "      <td>5_night</td>\n",
       "      <td>10.433047</td>\n",
       "    </tr>\n",
       "    <tr>\n",
       "      <th>25</th>\n",
       "      <td>Tuesday</td>\n",
       "      <td>1</td>\n",
       "      <td>1_morning</td>\n",
       "      <td>14.127757</td>\n",
       "    </tr>\n",
       "    <tr>\n",
       "      <th>26</th>\n",
       "      <td>Tuesday</td>\n",
       "      <td>1</td>\n",
       "      <td>2_dinner</td>\n",
       "      <td>12.040868</td>\n",
       "    </tr>\n",
       "    <tr>\n",
       "      <th>27</th>\n",
       "      <td>Tuesday</td>\n",
       "      <td>1</td>\n",
       "      <td>3_day</td>\n",
       "      <td>11.428285</td>\n",
       "    </tr>\n",
       "  </tbody>\n",
       "</table>\n",
       "</div>"
      ],
      "text/plain": [
       "    data_wd  data_wdn   day_time      sells\n",
       "5    Monday         0  1_morning  14.269427\n",
       "6    Monday         0   2_dinner  12.134874\n",
       "7    Monday         0      3_day  11.048464\n",
       "8    Monday         0  4_evening  13.840538\n",
       "9    Monday         0    5_night  10.433047\n",
       "25  Tuesday         1  1_morning  14.127757\n",
       "26  Tuesday         1   2_dinner  12.040868\n",
       "27  Tuesday         1      3_day  11.428285"
      ]
     },
     "execution_count": 23,
     "metadata": {},
     "output_type": "execute_result"
    }
   ],
   "source": [
    "# аггрегируем данные по среднему количеству покупок в час\n",
    "avg_sales_wd = sales_all.groupby(['data_wd', 'data_wdn', 'day_time'], as_index=False).agg({'sells': 'mean'}).sort_values(['data_wdn', 'day_time'])\n",
    "avg_sales_wd.head(8)"
   ]
  },
  {
   "cell_type": "code",
   "execution_count": 24,
   "metadata": {},
   "outputs": [
    {
     "data": {
      "image/png": "[encoded data removed]",
      "text/plain": [
       "<Figure size 1800x1080 with 1 Axes>"
      ]
     },
     "metadata": {},
     "output_type": "display_data"
    }
   ],
   "source": [
    "sns.set(\n",
    "font_scale=2,\n",
    "style=\"whitegrid\",\n",
    "rc={'figure.figsize':(25,15)}\n",
    "        )\n",
    "\n",
    "#задаём сеты значений\n",
    "morning = list(avg_sales_wd.query(\"day_time == '1_morning'\").sells)\n",
    "dinner = list(avg_sales_wd.query(\"day_time == '2_dinner'\").sells)\n",
    "day = list(avg_sales_wd.query(\"day_time == '3_day'\").sells)\n",
    "evening = list(avg_sales_wd.query(\"day_time == '4_evening'\").sells)\n",
    "night = list(avg_sales_wd.query(\"day_time == '5_night'\").sells)\n",
    "\n",
    "#параметры\n",
    "# N = 4 \n",
    "# barWidth = .5\n",
    "# xloc = np.arange (N)\n",
    "\n",
    "#настраиваем отображение графика\n",
    "p1 = plt.bar (np.arange (7), morning, width=.5, color='blue', alpha=0.3)\n",
    "p2 = plt.bar (np.arange (7), dinner, bottom=morning, width=.5, color='violet', alpha=0.5)\n",
    "p3 = plt.bar (np.arange (7), day, bottom=list(map(sum, zip(morning, dinner))), width=.5, color='green', alpha=0.5)\n",
    "p4 = plt.bar (np.arange (7), evening, bottom=list(map(sum, zip(morning, dinner, day))), width=.5, color='coral', alpha=0.5)\n",
    "p5 = plt.bar (np.arange (7), night, bottom=list(map(sum, zip(morning, dinner, day, evening))), width=.5, color='red', alpha=0.4)\n",
    "\n",
    "#добавляем подписи осей, графика, легенду\n",
    "plt.ylabel('Day_time')\n",
    "plt.xlabel('Week_day')\n",
    "plt.title('Average sales by week day')\n",
    "plt.xticks (np.arange (7),('Mon', 'Tue', 'Wed', 'Thu', 'Fri', 'Sat', 'Sun'))\n",
    "plt.yticks (np.arange (0, 85, 5))\n",
    "plt.legend((p1[0], p2[0], p3[0], p4[0], p5[0]),('morning', 'dinner', 'day', 'evening', 'night'))\n",
    "\n",
    "plt.show()"
   ]
  },
  {
   "cell_type": "markdown",
   "metadata": {},
   "source": [
    "Укрупнила данные до времени суток, чтобы было удобнее оценивать график\n",
    "<br>С понедельника по вторник распределение количества продаж в течение дня идентичны.\n",
    "<br>В пятницу заметный рост активности утром, после обеда - в целом количество продаж больше в течение дня.\n",
    "<br>'1_morning' 8-12\n",
    "<br>'2_dinner' 13-15\n",
    "<br>'3_day' 16-18\n",
    "<br>'4_evening' 19-22\n",
    "<br>'5_night' 23-7\n",
    "\n",
    "<br>Что касается выходных - спад продаж в субботу в течение всего дня, воскресение похоже на среду.\n",
    "<br><b>Вывод:</b> по графику нельзя сделать вывод, что распределение продаж в течение дня меняется в зависимости от дня недели. Скорее общее количество продаж меняется в зависимости от дня недели."
   ]
  },
  {
   "cell_type": "markdown",
   "metadata": {},
   "source": [
    "### <i>3)Меняется ли распределение продаж в течение дня в выходные и праздники?</i>"
   ]
  },
  {
   "cell_type": "code",
   "execution_count": 25,
   "metadata": {},
   "outputs": [],
   "source": [
    "# загрузим календарь с праздничными и выходными днями\n",
    "base_url = 'https://cloud-api.yandex.net/v1/disk/public/resources/download?'\n",
    "public_key = 'https://disk.yandex.ru/i/KGmBRJCZ4mtYeQ'\n",
    "\n",
    "# Получаем загрузочную ссылку\n",
    "final_url = base_url + urlencode(dict(public_key=public_key))\n",
    "response = requests.get(final_url)\n",
    "download_url = response.json()['href']\n",
    "\n",
    "calendar = pd.read_excel(download_url)"
   ]
  },
  {
   "cell_type": "code",
   "execution_count": 26,
   "metadata": {
    "scrolled": true
   },
   "outputs": [
    {
     "data": {
      "text/html": [
       "<div>\n",
       "<style scoped>\n",
       "    .dataframe tbody tr th:only-of-type {\n",
       "        vertical-align: middle;\n",
       "    }\n",
       "\n",
       "    .dataframe tbody tr th {\n",
       "        vertical-align: top;\n",
       "    }\n",
       "\n",
       "    .dataframe thead th {\n",
       "        text-align: right;\n",
       "    }\n",
       "</style>\n",
       "<table border=\"1\" class=\"dataframe\">\n",
       "  <thead>\n",
       "    <tr style=\"text-align: right;\">\n",
       "      <th></th>\n",
       "      <th>date</th>\n",
       "      <th>week_day</th>\n",
       "      <th>mark</th>\n",
       "    </tr>\n",
       "  </thead>\n",
       "  <tbody>\n",
       "    <tr>\n",
       "      <th>725</th>\n",
       "      <td>2023-12-27</td>\n",
       "      <td>среда</td>\n",
       "      <td>0.0</td>\n",
       "    </tr>\n",
       "    <tr>\n",
       "      <th>726</th>\n",
       "      <td>2023-12-28</td>\n",
       "      <td>четверг</td>\n",
       "      <td>0.0</td>\n",
       "    </tr>\n",
       "    <tr>\n",
       "      <th>727</th>\n",
       "      <td>2023-12-29</td>\n",
       "      <td>пятница</td>\n",
       "      <td>0.0</td>\n",
       "    </tr>\n",
       "    <tr>\n",
       "      <th>728</th>\n",
       "      <td>2023-12-30</td>\n",
       "      <td>суббота</td>\n",
       "      <td>1.0</td>\n",
       "    </tr>\n",
       "    <tr>\n",
       "      <th>729</th>\n",
       "      <td>2023-12-31</td>\n",
       "      <td>воскресенье</td>\n",
       "      <td>1.0</td>\n",
       "    </tr>\n",
       "  </tbody>\n",
       "</table>\n",
       "</div>"
      ],
      "text/plain": [
       "          date     week_day  mark\n",
       "725 2023-12-27        среда   0.0\n",
       "726 2023-12-28      четверг   0.0\n",
       "727 2023-12-29      пятница   0.0\n",
       "728 2023-12-30      суббота   1.0\n",
       "729 2023-12-31  воскресенье   1.0"
      ]
     },
     "execution_count": 26,
     "metadata": {},
     "output_type": "execute_result"
    }
   ],
   "source": [
    "calendar = calendar.fillna(0)\n",
    "calendar.tail()"
   ]
  },
  {
   "cell_type": "code",
   "execution_count": 27,
   "metadata": {},
   "outputs": [
    {
     "data": {
      "text/plain": [
       "date        datetime64[ns]\n",
       "week_day            object\n",
       "mark               float64\n",
       "dtype: object"
      ]
     },
     "execution_count": 27,
     "metadata": {},
     "output_type": "execute_result"
    }
   ],
   "source": [
    "calendar.dtypes"
   ]
  },
  {
   "cell_type": "code",
   "execution_count": 28,
   "metadata": {},
   "outputs": [
    {
     "data": {
      "text/html": [
       "<div>\n",
       "<style scoped>\n",
       "    .dataframe tbody tr th:only-of-type {\n",
       "        vertical-align: middle;\n",
       "    }\n",
       "\n",
       "    .dataframe tbody tr th {\n",
       "        vertical-align: top;\n",
       "    }\n",
       "\n",
       "    .dataframe thead th {\n",
       "        text-align: right;\n",
       "    }\n",
       "</style>\n",
       "<table border=\"1\" class=\"dataframe\">\n",
       "  <thead>\n",
       "    <tr style=\"text-align: right;\">\n",
       "      <th></th>\n",
       "      <th>id</th>\n",
       "      <th>data</th>\n",
       "      <th>sells</th>\n",
       "      <th>date_x</th>\n",
       "      <th>subject_id</th>\n",
       "      <th>name</th>\n",
       "      <th>groupname</th>\n",
       "      <th>data_ymdh</th>\n",
       "      <th>data_h</th>\n",
       "      <th>data_d</th>\n",
       "      <th>data_wd</th>\n",
       "      <th>data_m</th>\n",
       "      <th>season</th>\n",
       "      <th>day_time</th>\n",
       "      <th>data_wdn</th>\n",
       "      <th>date_y</th>\n",
       "      <th>week_day</th>\n",
       "      <th>mark</th>\n",
       "    </tr>\n",
       "  </thead>\n",
       "  <tbody>\n",
       "    <tr>\n",
       "      <th>0</th>\n",
       "      <td>461732</td>\n",
       "      <td>2022-10-04 04:10:26</td>\n",
       "      <td>3</td>\n",
       "      <td>2022-10-04</td>\n",
       "      <td>98.0</td>\n",
       "      <td>Сабо</td>\n",
       "      <td>Обувь</td>\n",
       "      <td>2022-10-04 04:00:00</td>\n",
       "      <td>4</td>\n",
       "      <td>2022-10-04</td>\n",
       "      <td>Tuesday</td>\n",
       "      <td>10</td>\n",
       "      <td>otumn</td>\n",
       "      <td>5_night</td>\n",
       "      <td>1</td>\n",
       "      <td>2022-10-04</td>\n",
       "      <td>вторник</td>\n",
       "      <td>0.0</td>\n",
       "    </tr>\n",
       "    <tr>\n",
       "      <th>1</th>\n",
       "      <td>461732</td>\n",
       "      <td>2022-10-04 05:10:26</td>\n",
       "      <td>3</td>\n",
       "      <td>2022-10-04</td>\n",
       "      <td>98.0</td>\n",
       "      <td>Сабо</td>\n",
       "      <td>Обувь</td>\n",
       "      <td>2022-10-04 05:00:00</td>\n",
       "      <td>5</td>\n",
       "      <td>2022-10-04</td>\n",
       "      <td>Tuesday</td>\n",
       "      <td>10</td>\n",
       "      <td>otumn</td>\n",
       "      <td>5_night</td>\n",
       "      <td>1</td>\n",
       "      <td>2022-10-04</td>\n",
       "      <td>вторник</td>\n",
       "      <td>0.0</td>\n",
       "    </tr>\n",
       "    <tr>\n",
       "      <th>2</th>\n",
       "      <td>461732</td>\n",
       "      <td>2022-10-04 05:12:45</td>\n",
       "      <td>1</td>\n",
       "      <td>2022-10-04</td>\n",
       "      <td>98.0</td>\n",
       "      <td>Сабо</td>\n",
       "      <td>Обувь</td>\n",
       "      <td>2022-10-04 05:00:00</td>\n",
       "      <td>5</td>\n",
       "      <td>2022-10-04</td>\n",
       "      <td>Tuesday</td>\n",
       "      <td>10</td>\n",
       "      <td>otumn</td>\n",
       "      <td>5_night</td>\n",
       "      <td>1</td>\n",
       "      <td>2022-10-04</td>\n",
       "      <td>вторник</td>\n",
       "      <td>0.0</td>\n",
       "    </tr>\n",
       "    <tr>\n",
       "      <th>3</th>\n",
       "      <td>461732</td>\n",
       "      <td>2022-10-04 06:10:14</td>\n",
       "      <td>1</td>\n",
       "      <td>2022-10-04</td>\n",
       "      <td>98.0</td>\n",
       "      <td>Сабо</td>\n",
       "      <td>Обувь</td>\n",
       "      <td>2022-10-04 06:00:00</td>\n",
       "      <td>6</td>\n",
       "      <td>2022-10-04</td>\n",
       "      <td>Tuesday</td>\n",
       "      <td>10</td>\n",
       "      <td>otumn</td>\n",
       "      <td>5_night</td>\n",
       "      <td>1</td>\n",
       "      <td>2022-10-04</td>\n",
       "      <td>вторник</td>\n",
       "      <td>0.0</td>\n",
       "    </tr>\n",
       "    <tr>\n",
       "      <th>4</th>\n",
       "      <td>461732</td>\n",
       "      <td>2022-10-04 06:11:50</td>\n",
       "      <td>1</td>\n",
       "      <td>2022-10-04</td>\n",
       "      <td>98.0</td>\n",
       "      <td>Сабо</td>\n",
       "      <td>Обувь</td>\n",
       "      <td>2022-10-04 06:00:00</td>\n",
       "      <td>6</td>\n",
       "      <td>2022-10-04</td>\n",
       "      <td>Tuesday</td>\n",
       "      <td>10</td>\n",
       "      <td>otumn</td>\n",
       "      <td>5_night</td>\n",
       "      <td>1</td>\n",
       "      <td>2022-10-04</td>\n",
       "      <td>вторник</td>\n",
       "      <td>0.0</td>\n",
       "    </tr>\n",
       "  </tbody>\n",
       "</table>\n",
       "</div>"
      ],
      "text/plain": [
       "       id                data  sells      date_x  subject_id  name groupname  \\\n",
       "0  461732 2022-10-04 04:10:26      3  2022-10-04        98.0  Сабо     Обувь   \n",
       "1  461732 2022-10-04 05:10:26      3  2022-10-04        98.0  Сабо     Обувь   \n",
       "2  461732 2022-10-04 05:12:45      1  2022-10-04        98.0  Сабо     Обувь   \n",
       "3  461732 2022-10-04 06:10:14      1  2022-10-04        98.0  Сабо     Обувь   \n",
       "4  461732 2022-10-04 06:11:50      1  2022-10-04        98.0  Сабо     Обувь   \n",
       "\n",
       "            data_ymdh  data_h     data_d  data_wd  data_m season day_time  \\\n",
       "0 2022-10-04 04:00:00       4 2022-10-04  Tuesday      10  otumn  5_night   \n",
       "1 2022-10-04 05:00:00       5 2022-10-04  Tuesday      10  otumn  5_night   \n",
       "2 2022-10-04 05:00:00       5 2022-10-04  Tuesday      10  otumn  5_night   \n",
       "3 2022-10-04 06:00:00       6 2022-10-04  Tuesday      10  otumn  5_night   \n",
       "4 2022-10-04 06:00:00       6 2022-10-04  Tuesday      10  otumn  5_night   \n",
       "\n",
       "   data_wdn     date_y week_day  mark  \n",
       "0         1 2022-10-04  вторник   0.0  \n",
       "1         1 2022-10-04  вторник   0.0  \n",
       "2         1 2022-10-04  вторник   0.0  \n",
       "3         1 2022-10-04  вторник   0.0  \n",
       "4         1 2022-10-04  вторник   0.0  "
      ]
     },
     "execution_count": 28,
     "metadata": {},
     "output_type": "execute_result"
    }
   ],
   "source": [
    "# добавляем выходные к общей таблице\n",
    "sales_holyday = sales_all.merge(calendar, how='left', left_on='data_d', right_on='date')\n",
    "sales_holyday.head()"
   ]
  },
  {
   "cell_type": "code",
   "execution_count": 29,
   "metadata": {},
   "outputs": [
    {
     "data": {
      "text/html": [
       "<div>\n",
       "<style scoped>\n",
       "    .dataframe tbody tr th:only-of-type {\n",
       "        vertical-align: middle;\n",
       "    }\n",
       "\n",
       "    .dataframe tbody tr th {\n",
       "        vertical-align: top;\n",
       "    }\n",
       "\n",
       "    .dataframe thead th {\n",
       "        text-align: right;\n",
       "    }\n",
       "</style>\n",
       "<table border=\"1\" class=\"dataframe\">\n",
       "  <thead>\n",
       "    <tr style=\"text-align: right;\">\n",
       "      <th></th>\n",
       "      <th>mark</th>\n",
       "      <th>day_time</th>\n",
       "      <th>sells</th>\n",
       "    </tr>\n",
       "  </thead>\n",
       "  <tbody>\n",
       "    <tr>\n",
       "      <th>0</th>\n",
       "      <td>0.0</td>\n",
       "      <td>1_morning</td>\n",
       "      <td>14.683080</td>\n",
       "    </tr>\n",
       "    <tr>\n",
       "      <th>1</th>\n",
       "      <td>0.0</td>\n",
       "      <td>2_dinner</td>\n",
       "      <td>12.308229</td>\n",
       "    </tr>\n",
       "    <tr>\n",
       "      <th>2</th>\n",
       "      <td>0.0</td>\n",
       "      <td>3_day</td>\n",
       "      <td>10.999152</td>\n",
       "    </tr>\n",
       "    <tr>\n",
       "      <th>3</th>\n",
       "      <td>0.0</td>\n",
       "      <td>4_evening</td>\n",
       "      <td>13.592047</td>\n",
       "    </tr>\n",
       "    <tr>\n",
       "      <th>4</th>\n",
       "      <td>0.0</td>\n",
       "      <td>5_night</td>\n",
       "      <td>10.506142</td>\n",
       "    </tr>\n",
       "    <tr>\n",
       "      <th>5</th>\n",
       "      <td>1.0</td>\n",
       "      <td>1_morning</td>\n",
       "      <td>13.839312</td>\n",
       "    </tr>\n",
       "    <tr>\n",
       "      <th>6</th>\n",
       "      <td>1.0</td>\n",
       "      <td>2_dinner</td>\n",
       "      <td>11.679165</td>\n",
       "    </tr>\n",
       "    <tr>\n",
       "      <th>7</th>\n",
       "      <td>1.0</td>\n",
       "      <td>3_day</td>\n",
       "      <td>11.467510</td>\n",
       "    </tr>\n",
       "    <tr>\n",
       "      <th>8</th>\n",
       "      <td>1.0</td>\n",
       "      <td>4_evening</td>\n",
       "      <td>12.645976</td>\n",
       "    </tr>\n",
       "    <tr>\n",
       "      <th>9</th>\n",
       "      <td>1.0</td>\n",
       "      <td>5_night</td>\n",
       "      <td>9.639406</td>\n",
       "    </tr>\n",
       "  </tbody>\n",
       "</table>\n",
       "</div>"
      ],
      "text/plain": [
       "   mark   day_time      sells\n",
       "0   0.0  1_morning  14.683080\n",
       "1   0.0   2_dinner  12.308229\n",
       "2   0.0      3_day  10.999152\n",
       "3   0.0  4_evening  13.592047\n",
       "4   0.0    5_night  10.506142\n",
       "5   1.0  1_morning  13.839312\n",
       "6   1.0   2_dinner  11.679165\n",
       "7   1.0      3_day  11.467510\n",
       "8   1.0  4_evening  12.645976\n",
       "9   1.0    5_night   9.639406"
      ]
     },
     "execution_count": 29,
     "metadata": {},
     "output_type": "execute_result"
    }
   ],
   "source": [
    "# аггрегируем данные по среднему количеству покупок в праздники и будни\n",
    "avg_sales_holyday = sales_holyday.groupby(['mark', 'day_time'], as_index=False).agg({'sells': 'mean'}).sort_values(['mark', 'day_time'])\n",
    "avg_sales_holyday.head(20)"
   ]
  },
  {
   "cell_type": "code",
   "execution_count": 30,
   "metadata": {},
   "outputs": [
    {
     "data": {
      "text/plain": [
       "<matplotlib.axes._subplots.AxesSubplot at 0x7f6770de6b70>"
      ]
     },
     "execution_count": 30,
     "metadata": {},
     "output_type": "execute_result"
    },
    {
     "data": {
      "image/png": "[encoded data removed]",
      "text/plain": [
       "<Figure size 1800x1080 with 1 Axes>"
      ]
     },
     "metadata": {},
     "output_type": "display_data"
    }
   ],
   "source": [
    "hol = avg_sales_holyday.query('mark == 1')\n",
    "non_hol = avg_sales_holyday.query('mark != 1')\n",
    "\n",
    "sns.barplot(x='day_time', y='sells', data=hol, color='coral', alpha=0.5)\n",
    "sns.barplot(x='day_time', y='sells', data=non_hol, color='blue', alpha=0.3)"
   ]
  },
  {
   "cell_type": "markdown",
   "metadata": {},
   "source": [
    "По графику заметно, что среднее количество продаж в течение дня выше в непраздничные дни за иключнием временного промежутка с 16 до 18.\n",
    "<br><b>Вывод:</b> будет схож с предыдущим пунктом. по графику нельзя сделать вывод, что распределение продаж в течение дня меняется в зависимости от покупок в будний или выходной/праздничный день. Скорее общее количество продаж меняется в зависимости от буднего или выходного/праздничного дня. С оговоркой, что есть изменение в промежутке с 16 до 18 дня в праздничные/выходные дни активность выше, тогда как в другое время ниже."
   ]
  },
  {
   "cell_type": "markdown",
   "metadata": {},
   "source": [
    "### <i>4)Зависит ли распределение продаж в течение дня от времени года/месяца?</i>"
   ]
  },
  {
   "cell_type": "code",
   "execution_count": 31,
   "metadata": {},
   "outputs": [
    {
     "data": {
      "text/html": [
       "<div>\n",
       "<style scoped>\n",
       "    .dataframe tbody tr th:only-of-type {\n",
       "        vertical-align: middle;\n",
       "    }\n",
       "\n",
       "    .dataframe tbody tr th {\n",
       "        vertical-align: top;\n",
       "    }\n",
       "\n",
       "    .dataframe thead th {\n",
       "        text-align: right;\n",
       "    }\n",
       "</style>\n",
       "<table border=\"1\" class=\"dataframe\">\n",
       "  <thead>\n",
       "    <tr style=\"text-align: right;\">\n",
       "      <th></th>\n",
       "      <th>season</th>\n",
       "      <th>day_time</th>\n",
       "      <th>sells</th>\n",
       "    </tr>\n",
       "  </thead>\n",
       "  <tbody>\n",
       "    <tr>\n",
       "      <th>0</th>\n",
       "      <td>otumn</td>\n",
       "      <td>1_morning</td>\n",
       "      <td>12.063349</td>\n",
       "    </tr>\n",
       "    <tr>\n",
       "      <th>1</th>\n",
       "      <td>otumn</td>\n",
       "      <td>2_dinner</td>\n",
       "      <td>12.602426</td>\n",
       "    </tr>\n",
       "    <tr>\n",
       "      <th>2</th>\n",
       "      <td>otumn</td>\n",
       "      <td>3_day</td>\n",
       "      <td>8.090608</td>\n",
       "    </tr>\n",
       "    <tr>\n",
       "      <th>3</th>\n",
       "      <td>otumn</td>\n",
       "      <td>4_evening</td>\n",
       "      <td>16.470351</td>\n",
       "    </tr>\n",
       "    <tr>\n",
       "      <th>4</th>\n",
       "      <td>otumn</td>\n",
       "      <td>5_night</td>\n",
       "      <td>9.904670</td>\n",
       "    </tr>\n",
       "    <tr>\n",
       "      <th>5</th>\n",
       "      <td>spring</td>\n",
       "      <td>1_morning</td>\n",
       "      <td>16.589366</td>\n",
       "    </tr>\n",
       "    <tr>\n",
       "      <th>6</th>\n",
       "      <td>spring</td>\n",
       "      <td>2_dinner</td>\n",
       "      <td>12.832979</td>\n",
       "    </tr>\n",
       "    <tr>\n",
       "      <th>7</th>\n",
       "      <td>spring</td>\n",
       "      <td>3_day</td>\n",
       "      <td>14.337148</td>\n",
       "    </tr>\n",
       "    <tr>\n",
       "      <th>8</th>\n",
       "      <td>spring</td>\n",
       "      <td>4_evening</td>\n",
       "      <td>8.759153</td>\n",
       "    </tr>\n",
       "    <tr>\n",
       "      <th>9</th>\n",
       "      <td>spring</td>\n",
       "      <td>5_night</td>\n",
       "      <td>11.325384</td>\n",
       "    </tr>\n",
       "    <tr>\n",
       "      <th>10</th>\n",
       "      <td>summer</td>\n",
       "      <td>1_morning</td>\n",
       "      <td>13.851048</td>\n",
       "    </tr>\n",
       "    <tr>\n",
       "      <th>11</th>\n",
       "      <td>summer</td>\n",
       "      <td>2_dinner</td>\n",
       "      <td>12.465812</td>\n",
       "    </tr>\n",
       "    <tr>\n",
       "      <th>12</th>\n",
       "      <td>summer</td>\n",
       "      <td>3_day</td>\n",
       "      <td>8.290653</td>\n",
       "    </tr>\n",
       "    <tr>\n",
       "      <th>13</th>\n",
       "      <td>summer</td>\n",
       "      <td>4_evening</td>\n",
       "      <td>11.862647</td>\n",
       "    </tr>\n",
       "    <tr>\n",
       "      <th>14</th>\n",
       "      <td>summer</td>\n",
       "      <td>5_night</td>\n",
       "      <td>9.913954</td>\n",
       "    </tr>\n",
       "    <tr>\n",
       "      <th>15</th>\n",
       "      <td>winter</td>\n",
       "      <td>1_morning</td>\n",
       "      <td>19.058249</td>\n",
       "    </tr>\n",
       "    <tr>\n",
       "      <th>16</th>\n",
       "      <td>winter</td>\n",
       "      <td>2_dinner</td>\n",
       "      <td>10.402743</td>\n",
       "    </tr>\n",
       "    <tr>\n",
       "      <th>17</th>\n",
       "      <td>winter</td>\n",
       "      <td>3_day</td>\n",
       "      <td>26.858757</td>\n",
       "    </tr>\n",
       "    <tr>\n",
       "      <th>18</th>\n",
       "      <td>winter</td>\n",
       "      <td>4_evening</td>\n",
       "      <td>13.502118</td>\n",
       "    </tr>\n",
       "    <tr>\n",
       "      <th>19</th>\n",
       "      <td>winter</td>\n",
       "      <td>5_night</td>\n",
       "      <td>10.361672</td>\n",
       "    </tr>\n",
       "  </tbody>\n",
       "</table>\n",
       "</div>"
      ],
      "text/plain": [
       "    season   day_time      sells\n",
       "0    otumn  1_morning  12.063349\n",
       "1    otumn   2_dinner  12.602426\n",
       "2    otumn      3_day   8.090608\n",
       "3    otumn  4_evening  16.470351\n",
       "4    otumn    5_night   9.904670\n",
       "5   spring  1_morning  16.589366\n",
       "6   spring   2_dinner  12.832979\n",
       "7   spring      3_day  14.337148\n",
       "8   spring  4_evening   8.759153\n",
       "9   spring    5_night  11.325384\n",
       "10  summer  1_morning  13.851048\n",
       "11  summer   2_dinner  12.465812\n",
       "12  summer      3_day   8.290653\n",
       "13  summer  4_evening  11.862647\n",
       "14  summer    5_night   9.913954\n",
       "15  winter  1_morning  19.058249\n",
       "16  winter   2_dinner  10.402743\n",
       "17  winter      3_day  26.858757\n",
       "18  winter  4_evening  13.502118\n",
       "19  winter    5_night  10.361672"
      ]
     },
     "execution_count": 31,
     "metadata": {},
     "output_type": "execute_result"
    }
   ],
   "source": [
    "# аггрегируем данные по среднему количеству покупок в час\n",
    "avg_sales_season = sales_all.groupby(['season', 'day_time'], as_index=False).agg({'sells': 'mean'}).sort_values(['season', 'day_time'])\n",
    "avg_sales_season.head(20)"
   ]
  },
  {
   "cell_type": "code",
   "execution_count": 32,
   "metadata": {},
   "outputs": [
    {
     "data": {
      "image/png": "[encoded data removed]",
      "text/plain": [
       "<Figure size 1800x1080 with 1 Axes>"
      ]
     },
     "metadata": {},
     "output_type": "display_data"
    }
   ],
   "source": [
    "sns.set(\n",
    "font_scale=2,\n",
    "style=\"whitegrid\",\n",
    "rc={'figure.figsize':(25,15)}\n",
    "        )\n",
    "\n",
    "#задаём сеты значений\n",
    "morning = list(avg_sales_season.query(\"day_time == '1_morning'\").sells)\n",
    "dinner = list(avg_sales_season.query(\"day_time == '2_dinner'\").sells)\n",
    "day = list(avg_sales_season.query(\"day_time == '3_day'\").sells)\n",
    "evening = list(avg_sales_season.query(\"day_time == '4_evening'\").sells)\n",
    "night = list(avg_sales_season.query(\"day_time == '5_night'\").sells)\n",
    "\n",
    "#параметры\n",
    "# N = 4 \n",
    "# barWidth = .5\n",
    "# xloc = np.arange (N)\n",
    "\n",
    "#настраиваем отображение графика\n",
    "p1 = plt.bar (np.arange (4), morning, width=.5, color='blue', alpha=0.3)\n",
    "p2 = plt.bar (np.arange (4), dinner, bottom=morning, width=.5, color='violet', alpha=0.5)\n",
    "p3 = plt.bar (np.arange (4), day, bottom=list(map(sum, zip(morning, dinner))), width=.5, color='green', alpha=0.5)\n",
    "p4 = plt.bar (np.arange (4), evening, bottom=list(map(sum, zip(morning, dinner, day))), width=.5, color='coral', alpha=0.5)\n",
    "p5 = plt.bar (np.arange (4), night, bottom=list(map(sum, zip(morning, dinner, day, evening))), width=.5, color='red', alpha=0.4)\n",
    "\n",
    "#добавляем подписи осей, графика, легенду\n",
    "plt.ylabel('Day_time')\n",
    "plt.xlabel('Season')\n",
    "plt.title('Average sales by season')\n",
    "plt.xticks (np.arange (4),('Otumn', 'Spring', 'Summer', 'Winter'))\n",
    "plt.yticks (np.arange (0, 85, 5))\n",
    "plt.legend((p1[0], p2[0], p3[0], p4[0], p5[0]),('morning', 'dinner', 'day', 'evening', 'night'))\n",
    "\n",
    "plt.show()"
   ]
  },
  {
   "cell_type": "markdown",
   "metadata": {},
   "source": [
    "По графику можно увидеть различия в распределении среднего количества продаж в течение суток между разными сезонами.\n",
    "<br>Проверим статистическим критерием.\n",
    "\n",
    "<br>Будем использовать Хи-квадрат тест на независимость (он же test of independence/association) — непараметрический, одновыборочный тест, который проверяет наличие связи между двумя категориальными переменными.\n",
    "\n",
    "<br>H0 зависимости между переменными нет"
   ]
  },
  {
   "cell_type": "code",
   "execution_count": 33,
   "metadata": {},
   "outputs": [
    {
     "data": {
      "text/html": [
       "<div>\n",
       "<style scoped>\n",
       "    .dataframe tbody tr th:only-of-type {\n",
       "        vertical-align: middle;\n",
       "    }\n",
       "\n",
       "    .dataframe tbody tr th {\n",
       "        vertical-align: top;\n",
       "    }\n",
       "\n",
       "    .dataframe thead th {\n",
       "        text-align: right;\n",
       "    }\n",
       "</style>\n",
       "<table border=\"1\" class=\"dataframe\">\n",
       "  <thead>\n",
       "    <tr style=\"text-align: right;\">\n",
       "      <th>season</th>\n",
       "      <th>otumn</th>\n",
       "      <th>spring</th>\n",
       "      <th>summer</th>\n",
       "      <th>winter</th>\n",
       "    </tr>\n",
       "    <tr>\n",
       "      <th>day_time</th>\n",
       "      <th></th>\n",
       "      <th></th>\n",
       "      <th></th>\n",
       "      <th></th>\n",
       "    </tr>\n",
       "  </thead>\n",
       "  <tbody>\n",
       "    <tr>\n",
       "      <th>1_morning</th>\n",
       "      <td>12.063349</td>\n",
       "      <td>16.589366</td>\n",
       "      <td>13.851048</td>\n",
       "      <td>19.058249</td>\n",
       "    </tr>\n",
       "    <tr>\n",
       "      <th>2_dinner</th>\n",
       "      <td>12.602426</td>\n",
       "      <td>12.832979</td>\n",
       "      <td>12.465812</td>\n",
       "      <td>10.402743</td>\n",
       "    </tr>\n",
       "    <tr>\n",
       "      <th>3_day</th>\n",
       "      <td>8.090608</td>\n",
       "      <td>14.337148</td>\n",
       "      <td>8.290653</td>\n",
       "      <td>26.858757</td>\n",
       "    </tr>\n",
       "    <tr>\n",
       "      <th>4_evening</th>\n",
       "      <td>16.470351</td>\n",
       "      <td>8.759153</td>\n",
       "      <td>11.862647</td>\n",
       "      <td>13.502118</td>\n",
       "    </tr>\n",
       "    <tr>\n",
       "      <th>5_night</th>\n",
       "      <td>9.904670</td>\n",
       "      <td>11.325384</td>\n",
       "      <td>9.913954</td>\n",
       "      <td>10.361672</td>\n",
       "    </tr>\n",
       "  </tbody>\n",
       "</table>\n",
       "</div>"
      ],
      "text/plain": [
       "season         otumn     spring     summer     winter\n",
       "day_time                                             \n",
       "1_morning  12.063349  16.589366  13.851048  19.058249\n",
       "2_dinner   12.602426  12.832979  12.465812  10.402743\n",
       "3_day       8.090608  14.337148   8.290653  26.858757\n",
       "4_evening  16.470351   8.759153  11.862647  13.502118\n",
       "5_night     9.904670  11.325384   9.913954  10.361672"
      ]
     },
     "execution_count": 33,
     "metadata": {},
     "output_type": "execute_result"
    }
   ],
   "source": [
    "#преобразовываем таблицу \n",
    "season_chi2 = avg_sales_season.pivot(index='day_time', columns='season', values='sells')\n",
    "season_chi2"
   ]
  },
  {
   "cell_type": "code",
   "execution_count": 34,
   "metadata": {},
   "outputs": [
    {
     "data": {
      "text/plain": [
       "array([[12.06334857, 16.58936559, 13.85104786, 19.05824918],\n",
       "       [12.6024265 , 12.83297858, 12.46581208, 10.4027432 ],\n",
       "       [ 8.09060766, 14.33714837,  8.29065294, 26.85875675],\n",
       "       [16.47035122,  8.75915287, 11.8626467 , 13.50211796],\n",
       "       [ 9.90467042, 11.32538419,  9.91395413, 10.36167178]])"
      ]
     },
     "execution_count": 34,
     "metadata": {},
     "output_type": "execute_result"
    }
   ],
   "source": [
    "# делаем из датафрэйма многмерный массив\n",
    "row_array = season_chi2.values\n",
    "row_array"
   ]
  },
  {
   "cell_type": "code",
   "execution_count": 35,
   "metadata": {},
   "outputs": [
    {
     "data": {
      "text/plain": [
       "(14.729650041073647, 0.25655512960881727)"
      ]
     },
     "execution_count": 35,
     "metadata": {},
     "output_type": "execute_result"
    }
   ],
   "source": [
    "stat, p, dof, expected = st.chi2_contingency(row_array)\n",
    "stat, p"
   ]
  },
  {
   "cell_type": "markdown",
   "metadata": {},
   "source": [
    "Получаем p-value 0.256, подтверждаем H0, зависимости между переменными нет.\n",
    "<br><b>Вывод:</b> сезон не влияет на распределение продаж в течение суток."
   ]
  },
  {
   "cell_type": "markdown",
   "metadata": {},
   "source": [
    "### <i>5)Влияет ли категория товара (предмет или группа предметов) на распределение продаж в течение дня?</i>"
   ]
  },
  {
   "cell_type": "code",
   "execution_count": 36,
   "metadata": {
    "scrolled": false
   },
   "outputs": [
    {
     "data": {
      "text/html": [
       "<div>\n",
       "<style scoped>\n",
       "    .dataframe tbody tr th:only-of-type {\n",
       "        vertical-align: middle;\n",
       "    }\n",
       "\n",
       "    .dataframe tbody tr th {\n",
       "        vertical-align: top;\n",
       "    }\n",
       "\n",
       "    .dataframe thead th {\n",
       "        text-align: right;\n",
       "    }\n",
       "</style>\n",
       "<table border=\"1\" class=\"dataframe\">\n",
       "  <thead>\n",
       "    <tr style=\"text-align: right;\">\n",
       "      <th></th>\n",
       "      <th>groupname</th>\n",
       "      <th>day_time</th>\n",
       "      <th>sells</th>\n",
       "    </tr>\n",
       "  </thead>\n",
       "  <tbody>\n",
       "    <tr>\n",
       "      <th>0</th>\n",
       "      <td>Автомобильные товары</td>\n",
       "      <td>1_morning</td>\n",
       "      <td>9.885925</td>\n",
       "    </tr>\n",
       "    <tr>\n",
       "      <th>1</th>\n",
       "      <td>Автомобильные товары</td>\n",
       "      <td>2_dinner</td>\n",
       "      <td>9.706601</td>\n",
       "    </tr>\n",
       "    <tr>\n",
       "      <th>2</th>\n",
       "      <td>Автомобильные товары</td>\n",
       "      <td>3_day</td>\n",
       "      <td>8.892841</td>\n",
       "    </tr>\n",
       "    <tr>\n",
       "      <th>3</th>\n",
       "      <td>Автомобильные товары</td>\n",
       "      <td>4_evening</td>\n",
       "      <td>10.107732</td>\n",
       "    </tr>\n",
       "    <tr>\n",
       "      <th>4</th>\n",
       "      <td>Автомобильные товары</td>\n",
       "      <td>5_night</td>\n",
       "      <td>7.003860</td>\n",
       "    </tr>\n",
       "    <tr>\n",
       "      <th>5</th>\n",
       "      <td>Автоэлектроника</td>\n",
       "      <td>1_morning</td>\n",
       "      <td>4.961165</td>\n",
       "    </tr>\n",
       "    <tr>\n",
       "      <th>6</th>\n",
       "      <td>Автоэлектроника</td>\n",
       "      <td>2_dinner</td>\n",
       "      <td>4.021739</td>\n",
       "    </tr>\n",
       "    <tr>\n",
       "      <th>7</th>\n",
       "      <td>Автоэлектроника</td>\n",
       "      <td>3_day</td>\n",
       "      <td>3.900000</td>\n",
       "    </tr>\n",
       "    <tr>\n",
       "      <th>8</th>\n",
       "      <td>Автоэлектроника</td>\n",
       "      <td>4_evening</td>\n",
       "      <td>6.722628</td>\n",
       "    </tr>\n",
       "    <tr>\n",
       "      <th>9</th>\n",
       "      <td>Автоэлектроника</td>\n",
       "      <td>5_night</td>\n",
       "      <td>4.439184</td>\n",
       "    </tr>\n",
       "    <tr>\n",
       "      <th>10</th>\n",
       "      <td>Аксессуары</td>\n",
       "      <td>1_morning</td>\n",
       "      <td>16.836278</td>\n",
       "    </tr>\n",
       "    <tr>\n",
       "      <th>11</th>\n",
       "      <td>Аксессуары</td>\n",
       "      <td>2_dinner</td>\n",
       "      <td>11.580950</td>\n",
       "    </tr>\n",
       "    <tr>\n",
       "      <th>12</th>\n",
       "      <td>Аксессуары</td>\n",
       "      <td>3_day</td>\n",
       "      <td>15.043159</td>\n",
       "    </tr>\n",
       "    <tr>\n",
       "      <th>13</th>\n",
       "      <td>Аксессуары</td>\n",
       "      <td>4_evening</td>\n",
       "      <td>9.091573</td>\n",
       "    </tr>\n",
       "    <tr>\n",
       "      <th>14</th>\n",
       "      <td>Аксессуары</td>\n",
       "      <td>5_night</td>\n",
       "      <td>9.812706</td>\n",
       "    </tr>\n",
       "    <tr>\n",
       "      <th>15</th>\n",
       "      <td>Аксессуары для волос</td>\n",
       "      <td>1_morning</td>\n",
       "      <td>11.826678</td>\n",
       "    </tr>\n",
       "    <tr>\n",
       "      <th>16</th>\n",
       "      <td>Аксессуары для волос</td>\n",
       "      <td>2_dinner</td>\n",
       "      <td>8.922013</td>\n",
       "    </tr>\n",
       "    <tr>\n",
       "      <th>17</th>\n",
       "      <td>Аксессуары для волос</td>\n",
       "      <td>3_day</td>\n",
       "      <td>7.991317</td>\n",
       "    </tr>\n",
       "    <tr>\n",
       "      <th>18</th>\n",
       "      <td>Аксессуары для волос</td>\n",
       "      <td>4_evening</td>\n",
       "      <td>10.674125</td>\n",
       "    </tr>\n",
       "    <tr>\n",
       "      <th>19</th>\n",
       "      <td>Аксессуары для волос</td>\n",
       "      <td>5_night</td>\n",
       "      <td>7.655507</td>\n",
       "    </tr>\n",
       "  </tbody>\n",
       "</table>\n",
       "</div>"
      ],
      "text/plain": [
       "               groupname   day_time      sells\n",
       "0   Автомобильные товары  1_morning   9.885925\n",
       "1   Автомобильные товары   2_dinner   9.706601\n",
       "2   Автомобильные товары      3_day   8.892841\n",
       "3   Автомобильные товары  4_evening  10.107732\n",
       "4   Автомобильные товары    5_night   7.003860\n",
       "5        Автоэлектроника  1_morning   4.961165\n",
       "6        Автоэлектроника   2_dinner   4.021739\n",
       "7        Автоэлектроника      3_day   3.900000\n",
       "8        Автоэлектроника  4_evening   6.722628\n",
       "9        Автоэлектроника    5_night   4.439184\n",
       "10            Аксессуары  1_morning  16.836278\n",
       "11            Аксессуары   2_dinner  11.580950\n",
       "12            Аксессуары      3_day  15.043159\n",
       "13            Аксессуары  4_evening   9.091573\n",
       "14            Аксессуары    5_night   9.812706\n",
       "15  Аксессуары для волос  1_morning  11.826678\n",
       "16  Аксессуары для волос   2_dinner   8.922013\n",
       "17  Аксессуары для волос      3_day   7.991317\n",
       "18  Аксессуары для волос  4_evening  10.674125\n",
       "19  Аксессуары для волос    5_night   7.655507"
      ]
     },
     "execution_count": 36,
     "metadata": {},
     "output_type": "execute_result"
    }
   ],
   "source": [
    "# аггрегируем данные по среднему количеству покупок в праздники и будни\n",
    "avg_sales_cat = sales_holyday.groupby(['groupname', 'day_time'], as_index=False).agg({'sells': 'mean'}).sort_values(['groupname', 'day_time'])\n",
    "avg_sales_cat.head(20)"
   ]
  },
  {
   "cell_type": "code",
   "execution_count": 46,
   "metadata": {},
   "outputs": [
    {
     "data": {
      "text/plain": [
       "<matplotlib.axes._subplots.AxesSubplot at 0x7f677014b978>"
      ]
     },
     "execution_count": 46,
     "metadata": {},
     "output_type": "execute_result"
    },
    {
     "data": {
      "image/png": "[encoded data removed]",
      "text/plain": [
       "<Figure size 1800x1080 with 1 Axes>"
      ]
     },
     "metadata": {},
     "output_type": "display_data"
    }
   ],
   "source": [
    "sns.lineplot(data=avg_sales_cat.query('groupname == \"Автомобильные товары\"'), x='day_time', y='sells')\n",
    "sns.lineplot(data=avg_sales_cat.query('groupname == \"Автоэлектроника\"'), x='day_time', y='sells')\n",
    "sns.lineplot(data=avg_sales_cat.query('groupname == \"Аксессуары\"'), x='day_time', y='sells')\n",
    "sns.lineplot(data=avg_sales_cat.query('groupname == \"Аксессуары для волос\"'), x='day_time', y='sells')\n",
    "sns.lineplot(data=avg_sales_cat.query('groupname == \"Обувь\"'), x='day_time', y='sells')\n",
    "sns.lineplot(data=avg_sales_cat.query('groupname == \"Дом\"'), x='day_time', y='sells')"
   ]
  },
  {
   "cell_type": "markdown",
   "metadata": {},
   "source": [
    "Хи-квадрат такую таблицу не обработал, взяла бы таймаут подумать над методологией статистической проверки.\n",
    "<br>Однако даже на выборке из 6 категорий товаров на графике  заметно, что тенденция в покупку отличается, поэтому ожидаемый результат: категория товара влияет на распределение продаж в течение дня."
   ]
  }
 ],
 "metadata": {
  "kernelspec": {
   "display_name": "Python 3",
   "language": "python",
   "name": "python3"
  },
  "language_info": {
   "codemirror_mode": {
    "name": "ipython",
    "version": 3
   },
   "file_extension": ".py",
   "mimetype": "text/x-python",
   "name": "python",
   "nbconvert_exporter": "python",
   "pygments_lexer": "ipython3",
   "version": "3.7.3"
  }
 },
 "nbformat": 4,
 "nbformat_minor": 4
}
